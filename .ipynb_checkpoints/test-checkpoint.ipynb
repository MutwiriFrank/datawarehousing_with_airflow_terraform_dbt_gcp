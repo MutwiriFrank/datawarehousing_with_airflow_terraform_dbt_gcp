{
 "cells": [
  {
   "cell_type": "code",
   "execution_count": 2,
   "id": "d74b8a0e-8519-4306-8406-b824973db324",
   "metadata": {},
   "outputs": [],
   "source": [
    "import pandas as pd"
   ]
  },
  {
   "cell_type": "code",
   "execution_count": 6,
   "id": "0aa04d7d-d254-46f8-891c-92ff2980fb35",
   "metadata": {},
   "outputs": [],
   "source": [
    "df = pd.read_parquet(\"/home/mutwiri/Downloads/data_country.parquet\")"
   ]
  },
  {
   "cell_type": "code",
   "execution_count": 7,
   "id": "2fcae65d-d53d-421f-b558-a7b5ec7cfd72",
   "metadata": {},
   "outputs": [
    {
     "data": {
      "text/html": [
       "<div>\n",
       "<style scoped>\n",
       "    .dataframe tbody tr th:only-of-type {\n",
       "        vertical-align: middle;\n",
       "    }\n",
       "\n",
       "    .dataframe tbody tr th {\n",
       "        vertical-align: top;\n",
       "    }\n",
       "\n",
       "    .dataframe thead th {\n",
       "        text-align: right;\n",
       "    }\n",
       "</style>\n",
       "<table border=\"1\" class=\"dataframe\">\n",
       "  <thead>\n",
       "    <tr style=\"text-align: right;\">\n",
       "      <th></th>\n",
       "      <th>country_id</th>\n",
       "      <th>country_name</th>\n",
       "      <th>country_code</th>\n",
       "      <th>country_code_desc</th>\n",
       "      <th>create_dtm</th>\n",
       "      <th>updated_dtm</th>\n",
       "    </tr>\n",
       "  </thead>\n",
       "  <tbody>\n",
       "    <tr>\n",
       "      <th>0</th>\n",
       "      <td>5</td>\n",
       "      <td>Uganda</td>\n",
       "      <td>UG</td>\n",
       "      <td>Republic of Kenya</td>\n",
       "      <td>2024-01-07 14:47:37.960095</td>\n",
       "      <td>2024-01-07 14:47:37.960095</td>\n",
       "    </tr>\n",
       "    <tr>\n",
       "      <th>1</th>\n",
       "      <td>6</td>\n",
       "      <td>Tanzania</td>\n",
       "      <td>TZ</td>\n",
       "      <td>Federal Republic of Nigeria</td>\n",
       "      <td>2024-01-07 14:47:37.960095</td>\n",
       "      <td>2024-01-07 14:47:37.960095</td>\n",
       "    </tr>\n",
       "  </tbody>\n",
       "</table>\n",
       "</div>"
      ],
      "text/plain": [
       "   country_id country_name country_code            country_code_desc  \\\n",
       "0           5       Uganda           UG            Republic of Kenya   \n",
       "1           6     Tanzania           TZ  Federal Republic of Nigeria   \n",
       "\n",
       "                  create_dtm                updated_dtm  \n",
       "0 2024-01-07 14:47:37.960095 2024-01-07 14:47:37.960095  \n",
       "1 2024-01-07 14:47:37.960095 2024-01-07 14:47:37.960095  "
      ]
     },
     "execution_count": 7,
     "metadata": {},
     "output_type": "execute_result"
    }
   ],
   "source": [
    "df"
   ]
  },
  {
   "cell_type": "code",
   "execution_count": null,
   "id": "20cdc1c2-84f1-4c9f-93c1-ff5581c2676c",
   "metadata": {},
   "outputs": [],
   "source": []
  }
 ],
 "metadata": {
  "kernelspec": {
   "display_name": "Python 3 (ipykernel)",
   "language": "python",
   "name": "python3"
  },
  "language_info": {
   "codemirror_mode": {
    "name": "ipython",
    "version": 3
   },
   "file_extension": ".py",
   "mimetype": "text/x-python",
   "name": "python",
   "nbconvert_exporter": "python",
   "pygments_lexer": "ipython3",
   "version": "3.10.12"
  }
 },
 "nbformat": 4,
 "nbformat_minor": 5
}
