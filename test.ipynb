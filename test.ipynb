{
 "cells": [
  {
   "cell_type": "code",
   "execution_count": 5,
   "id": "d74b8a0e-8519-4306-8406-b824973db324",
   "metadata": {},
   "outputs": [],
   "source": [
    "import pandas as pd"
   ]
  },
  {
   "cell_type": "code",
   "execution_count": 6,
   "id": "0aa04d7d-d254-46f8-891c-92ff2980fb35",
   "metadata": {},
   "outputs": [],
   "source": [
    "df = pd.read_parquet(\"/home/mutwiri/Downloads/data_course.parquet\")"
   ]
  },
  {
   "cell_type": "code",
   "execution_count": 7,
   "id": "2fcae65d-d53d-421f-b558-a7b5ec7cfd72",
   "metadata": {},
   "outputs": [
    {
     "data": {
      "text/html": [
       "<div>\n",
       "<style scoped>\n",
       "    .dataframe tbody tr th:only-of-type {\n",
       "        vertical-align: middle;\n",
       "    }\n",
       "\n",
       "    .dataframe tbody tr th {\n",
       "        vertical-align: top;\n",
       "    }\n",
       "\n",
       "    .dataframe thead th {\n",
       "        text-align: right;\n",
       "    }\n",
       "</style>\n",
       "<table border=\"1\" class=\"dataframe\">\n",
       "  <thead>\n",
       "    <tr style=\"text-align: right;\">\n",
       "      <th></th>\n",
       "      <th>course_id</th>\n",
       "      <th>course_name</th>\n",
       "      <th>course_code</th>\n",
       "      <th>course_code_desc</th>\n",
       "      <th>course_period</th>\n",
       "      <th>department_id</th>\n",
       "      <th>create_dtm</th>\n",
       "      <th>updated_dtm</th>\n",
       "    </tr>\n",
       "  </thead>\n",
       "  <tbody>\n",
       "    <tr>\n",
       "      <th>0</th>\n",
       "      <td>10</td>\n",
       "      <td>Data Engineering</td>\n",
       "      <td>DE101</td>\n",
       "      <td>Data Engineering Fundamentals</td>\n",
       "      <td>4</td>\n",
       "      <td>1</td>\n",
       "      <td>2024-01-07 21:53:18.396548</td>\n",
       "      <td>None</td>\n",
       "    </tr>\n",
       "    <tr>\n",
       "      <th>1</th>\n",
       "      <td>11</td>\n",
       "      <td>Data Science</td>\n",
       "      <td>DS102</td>\n",
       "      <td>Data Science Fundamentals</td>\n",
       "      <td>4</td>\n",
       "      <td>2</td>\n",
       "      <td>2024-01-07 21:53:18.396548</td>\n",
       "      <td>None</td>\n",
       "    </tr>\n",
       "  </tbody>\n",
       "</table>\n",
       "</div>"
      ],
      "text/plain": [
       "   course_id       course_name course_code               course_code_desc  \\\n",
       "0         10  Data Engineering       DE101  Data Engineering Fundamentals   \n",
       "1         11      Data Science       DS102      Data Science Fundamentals   \n",
       "\n",
       "   course_period  department_id                 create_dtm updated_dtm  \n",
       "0              4              1 2024-01-07 21:53:18.396548        None  \n",
       "1              4              2 2024-01-07 21:53:18.396548        None  "
      ]
     },
     "execution_count": 7,
     "metadata": {},
     "output_type": "execute_result"
    }
   ],
   "source": [
    "df"
   ]
  },
  {
   "cell_type": "code",
   "execution_count": null,
   "id": "20cdc1c2-84f1-4c9f-93c1-ff5581c2676c",
   "metadata": {},
   "outputs": [],
   "source": []
  }
 ],
 "metadata": {
  "kernelspec": {
   "display_name": "Python 3 (ipykernel)",
   "language": "python",
   "name": "python3"
  },
  "language_info": {
   "codemirror_mode": {
    "name": "ipython",
    "version": 3
   },
   "file_extension": ".py",
   "mimetype": "text/x-python",
   "name": "python",
   "nbconvert_exporter": "python",
   "pygments_lexer": "ipython3",
   "version": "3.10.12"
  }
 },
 "nbformat": 4,
 "nbformat_minor": 5
}
